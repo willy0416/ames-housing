{
 "cells": [
  {
   "cell_type": "code",
   "execution_count": 62,
   "id": "4a7d82e8",
   "metadata": {},
   "outputs": [],
   "source": [
    "# Imports\n",
    "import pandas as pd\n",
    "import numpy as np\n",
    "import matplotlib.pyplot as plt\n",
    "import seaborn as sns\n",
    "import warnings\n",
    "from datetime import date\n",
    "\n",
    "warnings.filterwarnings(\"ignore\")"
   ]
  },
  {
   "cell_type": "markdown",
   "id": "c6340522",
   "metadata": {},
   "source": [
    "**1. Get an understanding of the data**"
   ]
  },
  {
   "cell_type": "code",
   "execution_count": 63,
   "id": "ed13b125",
   "metadata": {},
   "outputs": [
    {
     "name": "stdout",
     "output_type": "stream",
     "text": [
      "1460 training rows, 1459 test rows, 81 out-of-the-box features\n",
      "<class 'pandas.core.frame.DataFrame'>\n",
      "Index: 2919 entries, 0 to 1458\n",
      "Data columns (total 81 columns):\n",
      " #   Column         Non-Null Count  Dtype  \n",
      "---  ------         --------------  -----  \n",
      " 0   Id             2919 non-null   int64  \n",
      " 1   MSSubClass     2919 non-null   int64  \n",
      " 2   MSZoning       2915 non-null   object \n",
      " 3   LotFrontage    2433 non-null   float64\n",
      " 4   LotArea        2919 non-null   int64  \n",
      " 5   Street         2919 non-null   object \n",
      " 6   Alley          198 non-null    object \n",
      " 7   LotShape       2919 non-null   object \n",
      " 8   LandContour    2919 non-null   object \n",
      " 9   Utilities      2917 non-null   object \n",
      " 10  LotConfig      2919 non-null   object \n",
      " 11  LandSlope      2919 non-null   object \n",
      " 12  Neighborhood   2919 non-null   object \n",
      " 13  Condition1     2919 non-null   object \n",
      " 14  Condition2     2919 non-null   object \n",
      " 15  BldgType       2919 non-null   object \n",
      " 16  HouseStyle     2919 non-null   object \n",
      " 17  OverallQual    2919 non-null   int64  \n",
      " 18  OverallCond    2919 non-null   int64  \n",
      " 19  YearBuilt      2919 non-null   int64  \n",
      " 20  YearRemodAdd   2919 non-null   int64  \n",
      " 21  RoofStyle      2919 non-null   object \n",
      " 22  RoofMatl       2919 non-null   object \n",
      " 23  Exterior1st    2918 non-null   object \n",
      " 24  Exterior2nd    2918 non-null   object \n",
      " 25  MasVnrType     1153 non-null   object \n",
      " 26  MasVnrArea     2896 non-null   float64\n",
      " 27  ExterQual      2919 non-null   object \n",
      " 28  ExterCond      2919 non-null   object \n",
      " 29  Foundation     2919 non-null   object \n",
      " 30  BsmtQual       2838 non-null   object \n",
      " 31  BsmtCond       2837 non-null   object \n",
      " 32  BsmtExposure   2837 non-null   object \n",
      " 33  BsmtFinType1   2840 non-null   object \n",
      " 34  BsmtFinSF1     2918 non-null   float64\n",
      " 35  BsmtFinType2   2839 non-null   object \n",
      " 36  BsmtFinSF2     2918 non-null   float64\n",
      " 37  BsmtUnfSF      2918 non-null   float64\n",
      " 38  TotalBsmtSF    2918 non-null   float64\n",
      " 39  Heating        2919 non-null   object \n",
      " 40  HeatingQC      2919 non-null   object \n",
      " 41  CentralAir     2919 non-null   object \n",
      " 42  Electrical     2918 non-null   object \n",
      " 43  1stFlrSF       2919 non-null   int64  \n",
      " 44  2ndFlrSF       2919 non-null   int64  \n",
      " 45  LowQualFinSF   2919 non-null   int64  \n",
      " 46  GrLivArea      2919 non-null   int64  \n",
      " 47  BsmtFullBath   2917 non-null   float64\n",
      " 48  BsmtHalfBath   2917 non-null   float64\n",
      " 49  FullBath       2919 non-null   int64  \n",
      " 50  HalfBath       2919 non-null   int64  \n",
      " 51  BedroomAbvGr   2919 non-null   int64  \n",
      " 52  KitchenAbvGr   2919 non-null   int64  \n",
      " 53  KitchenQual    2918 non-null   object \n",
      " 54  TotRmsAbvGrd   2919 non-null   int64  \n",
      " 55  Functional     2917 non-null   object \n",
      " 56  Fireplaces     2919 non-null   int64  \n",
      " 57  FireplaceQu    1499 non-null   object \n",
      " 58  GarageType     2762 non-null   object \n",
      " 59  GarageYrBlt    2760 non-null   float64\n",
      " 60  GarageFinish   2760 non-null   object \n",
      " 61  GarageCars     2918 non-null   float64\n",
      " 62  GarageArea     2918 non-null   float64\n",
      " 63  GarageQual     2760 non-null   object \n",
      " 64  GarageCond     2760 non-null   object \n",
      " 65  PavedDrive     2919 non-null   object \n",
      " 66  WoodDeckSF     2919 non-null   int64  \n",
      " 67  OpenPorchSF    2919 non-null   int64  \n",
      " 68  EnclosedPorch  2919 non-null   int64  \n",
      " 69  3SsnPorch      2919 non-null   int64  \n",
      " 70  ScreenPorch    2919 non-null   int64  \n",
      " 71  PoolArea       2919 non-null   int64  \n",
      " 72  PoolQC         10 non-null     object \n",
      " 73  Fence          571 non-null    object \n",
      " 74  MiscFeature    105 non-null    object \n",
      " 75  MiscVal        2919 non-null   int64  \n",
      " 76  MoSold         2919 non-null   int64  \n",
      " 77  YrSold         2919 non-null   int64  \n",
      " 78  SaleType       2918 non-null   object \n",
      " 79  SaleCondition  2919 non-null   object \n",
      " 80  SalePrice      1460 non-null   float64\n",
      "dtypes: float64(12), int64(26), object(43)\n",
      "memory usage: 1.8+ MB\n"
     ]
    }
   ],
   "source": [
    "# Load in data\n",
    "train, test = pd.read_csv(\"train.csv\"), pd.read_csv(\"test.csv\")\n",
    "\n",
    "# Stack for consistent preprocessing\n",
    "all = pd.concat([train, test], axis=0)\n",
    "\n",
    "# Preview\n",
    "print(f\"{len(train)} training rows, {len(test)} test rows, {train.shape[1]} out-of-the-box features\")\n",
    "all.info() # or all.head(), all.describe()"
   ]
  },
  {
   "cell_type": "markdown",
   "id": "2c793b72",
   "metadata": {},
   "source": [
    "**2. Deal with missing data; pre-processing**"
   ]
  },
  {
   "cell_type": "code",
   "execution_count": null,
   "id": "1d2581e3",
   "metadata": {},
   "outputs": [
    {
     "name": "stdout",
     "output_type": "stream",
     "text": [
      "Index(['MSZoning', 'LotFrontage', 'Alley', 'Utilities', 'Exterior1st',\n",
      "       'Exterior2nd', 'MasVnrType', 'MasVnrArea', 'BsmtQual', 'BsmtCond',\n",
      "       'BsmtExposure', 'BsmtFinType1', 'BsmtFinSF1', 'BsmtFinType2',\n",
      "       'BsmtFinSF2', 'BsmtUnfSF', 'TotalBsmtSF', 'Electrical', 'BsmtFullBath',\n",
      "       'BsmtHalfBath', 'KitchenQual', 'Functional', 'FireplaceQu',\n",
      "       'GarageType', 'GarageYrBlt', 'GarageFinish', 'GarageCars', 'GarageArea',\n",
      "       'GarageQual', 'GarageCond', 'PoolQC', 'Fence', 'MiscFeature',\n",
      "       'SaleType', 'SalePrice'],\n",
      "      dtype='object')\n"
     ]
    }
   ],
   "source": [
    "# To make things easier, you can just drop rows with missing categorical features (so long as there aren't too many)\n",
    "\n",
    "# Get names of columns with any amount of missing data\n",
    "problematic_columns = all.columns[all.isnull().any()]\n",
    "print(problematic_columns)\n",
    "\n",
    "# Note which column(s) need special impute logic, if applicable\n",
    "# i.e. we can use YearBlt as a close approximation to GarageYrBlt\n",
    "\n",
    "# Separate the REST of the columns that need imputation into (a) categorical and (b) quantitative ones --> exclude SalePrice bc that's what we're predicting\n",
    "categorical_missing_cols = [\"MSZoning\", \"Alley\", \"Utilities\", \"Exterior1st\", \"Exterior2nd\", \"MasVnrType\", \"BsmtQual\", \"BsmtCond\", \"BsmtExposure\", \"BsmtFinType1\", \"BsmtFinType2\", \"Electrical\", 'KitchenQual', 'Functional', 'FireplaceQu', 'GarageType', 'GarageFinish', 'GarageQual', 'GarageCond', 'PoolQC', 'Fence', 'MiscFeature', 'SaleType']\n",
    "\n",
    "quantitative_missing_cols_to_categories = {\n",
    "    \"LotFrontage\": \"LotConfig\",\n",
    "    \"MasVnrArea\": \"MasVnrType\",\n",
    "    \"BsmtFinSF1\": \"BsmtFinType1\", \n",
    "    \"BsmtFinSF2\": \"BsmtFinType2\", \n",
    "    \"BsmtUnfSF\": \"BsmtQual\", \n",
    "    \"TotalBsmtSF\": \"BsmtQual\", \n",
    "    \"BsmtFullBath\": \"BsmtQual\", \n",
    "    \"BsmtHalfBath\": \"BsmtQual\", \n",
    "    'GarageCars': \"GarageType\",\n",
    "    'GarageArea': \"GarageType\",\n",
    "}"
   ]
  },
  {
   "cell_type": "code",
   "execution_count": 65,
   "id": "73f9968e",
   "metadata": {},
   "outputs": [],
   "source": [
    "# If possible, explicitly convert \"numerical\" categorical columns to \"category\" dtype --> takes more attention to detail\n",
    "all[\"MSSubClass\"] = all[\"MSSubClass\"].astype(\"category\")\n",
    "all[\"MoSold\"] = all[\"MoSold\"].astype(\"category\")"
   ]
  },
  {
   "cell_type": "code",
   "execution_count": 66,
   "id": "9b739cd2",
   "metadata": {},
   "outputs": [
    {
     "name": "stdout",
     "output_type": "stream",
     "text": [
      "Index(['Alley', 'PoolQC', 'Fence', 'MiscFeature'], dtype='object')\n"
     ]
    }
   ],
   "source": [
    "# CATEGORICAL IMPUTATION\n",
    "\n",
    "# Always do special logic first\n",
    "# For categorical columns with enormous amounts of missing data, instead of imputing with the (first) mode, create a new category\n",
    "most_missing = all[categorical_missing_cols].isnull().sum()\n",
    "new_category_needed = most_missing[most_missing > 0.7 * len(all)]\n",
    "print(new_category_needed.index)\n",
    "\n",
    "for col in new_category_needed.index:\n",
    "    all[col] = all[col].fillna(\"Other\")\n",
    "\n",
    "# Otherwise, impute with a SPECIFIC MODE that makes sense if possible, falling back to a general mode if not possible\n",
    "def impute_mode(group):\n",
    "    mode = group.mode()[0] # if multiple modes, choose 1st arbitrarily\n",
    "    return group.fillna(mode)\n",
    "\n",
    "for col in categorical_missing_cols:\n",
    "    if col not in new_category_needed.index:\n",
    "        try:\n",
    "            all[col] = all.groupby([\"Neighborhood\", \"MSSubClass\"])[col].transform(impute_mode) # grouping by neighborhood and subclass makes sense\n",
    "        except:\n",
    "            all[col] = all[col].fillna(all[col].mode()[0])"
   ]
  },
  {
   "cell_type": "code",
   "execution_count": 67,
   "id": "b8226057",
   "metadata": {},
   "outputs": [
    {
     "data": {
      "text/plain": [
       "Index(['SalePrice'], dtype='object')"
      ]
     },
     "execution_count": 67,
     "metadata": {},
     "output_type": "execute_result"
    }
   ],
   "source": [
    "# QUANTITATIVE IMPUTATION\n",
    "\n",
    "# Again, special logic first (GarageYrBlt)\n",
    "all[\"GarageYrBlt\"] = all[\"GarageYrBlt\"].fillna(all[\"YearBuilt\"])\n",
    "\n",
    "# Otherwise general logic is to impute via mean (can impute using something else, case by case)\n",
    "    # Use a more specific mean when possible! Fall back on the general mean\n",
    "for col, cat in quantitative_missing_cols_to_categories.items():\n",
    "    try:\n",
    "        all[col] = all[col].fillna(all.groupby(cat)[col].transform(\"mean\"))\n",
    "    except:\n",
    "        all[col] = all[col].fillna(all[col].mean())\n",
    "\n",
    "# Check that only Sale Price has missing data now\n",
    "all.columns[all.isnull().any()]"
   ]
  },
  {
   "cell_type": "markdown",
   "id": "d73cb199",
   "metadata": {},
   "source": [
    "**3. Feature engineering**"
   ]
  },
  {
   "cell_type": "code",
   "execution_count": 68,
   "id": "7fed09cb",
   "metadata": {},
   "outputs": [
    {
     "data": {
      "text/plain": [
       "SalePrice        1.000000\n",
       "OverallQual      0.790982\n",
       "GrLivArea        0.708624\n",
       "GarageCars       0.640409\n",
       "GarageArea       0.623431\n",
       "TotalBsmtSF      0.613581\n",
       "1stFlrSF         0.605852\n",
       "FullBath         0.560664\n",
       "TotRmsAbvGrd     0.533723\n",
       "YearBuilt        0.522897\n",
       "GarageYrBlt      0.508043\n",
       "YearRemodAdd     0.507101\n",
       "MasVnrArea       0.474904\n",
       "Fireplaces       0.466929\n",
       "BsmtFinSF1       0.386420\n",
       "LotFrontage      0.329387\n",
       "WoodDeckSF       0.324413\n",
       "2ndFlrSF         0.319334\n",
       "OpenPorchSF      0.315856\n",
       "HalfBath         0.284108\n",
       "LotArea          0.263843\n",
       "BsmtFullBath     0.227122\n",
       "BsmtUnfSF        0.214479\n",
       "BedroomAbvGr     0.168213\n",
       "ScreenPorch      0.111447\n",
       "PoolArea         0.092404\n",
       "3SsnPorch        0.044584\n",
       "BsmtFinSF2      -0.011378\n",
       "BsmtHalfBath    -0.016844\n",
       "MiscVal         -0.021190\n",
       "Id              -0.021917\n",
       "LowQualFinSF    -0.025606\n",
       "YrSold          -0.028923\n",
       "OverallCond     -0.077856\n",
       "EnclosedPorch   -0.128578\n",
       "KitchenAbvGr    -0.135907\n",
       "Name: SalePrice, dtype: float64"
      ]
     },
     "execution_count": 68,
     "metadata": {},
     "output_type": "execute_result"
    }
   ],
   "source": [
    "# Examine which raw quantitative features are well-correlated to SalePrice -> pandas corr, seaborn heatmap good\n",
    "all.corr(numeric_only=True)[\"SalePrice\"].sort_values(ascending=False)"
   ]
  },
  {
   "cell_type": "code",
   "execution_count": 76,
   "id": "be9f0e33",
   "metadata": {},
   "outputs": [],
   "source": [
    "# One-hot encoding\n",
    "all = pd.get_dummies(all)"
   ]
  },
  {
   "cell_type": "code",
   "execution_count": 77,
   "id": "4e87eab0",
   "metadata": {},
   "outputs": [
    {
     "data": {
      "text/html": [
       "<div>\n",
       "<style scoped>\n",
       "    .dataframe tbody tr th:only-of-type {\n",
       "        vertical-align: middle;\n",
       "    }\n",
       "\n",
       "    .dataframe tbody tr th {\n",
       "        vertical-align: top;\n",
       "    }\n",
       "\n",
       "    .dataframe thead th {\n",
       "        text-align: right;\n",
       "    }\n",
       "</style>\n",
       "<table border=\"1\" class=\"dataframe\">\n",
       "  <thead>\n",
       "    <tr style=\"text-align: right;\">\n",
       "      <th></th>\n",
       "      <th>SalePrice</th>\n",
       "      <th>TotalSF</th>\n",
       "      <th>YearsSinceSold</th>\n",
       "      <th>Bathrooms</th>\n",
       "    </tr>\n",
       "  </thead>\n",
       "  <tbody>\n",
       "    <tr>\n",
       "      <th>SalePrice</th>\n",
       "      <td>1.000000</td>\n",
       "      <td>0.782260</td>\n",
       "      <td>0.028923</td>\n",
       "      <td>0.631731</td>\n",
       "    </tr>\n",
       "    <tr>\n",
       "      <th>TotalSF</th>\n",
       "      <td>0.782260</td>\n",
       "      <td>1.000000</td>\n",
       "      <td>0.022934</td>\n",
       "      <td>0.608636</td>\n",
       "    </tr>\n",
       "    <tr>\n",
       "      <th>YearsSinceSold</th>\n",
       "      <td>0.028923</td>\n",
       "      <td>0.022934</td>\n",
       "      <td>1.000000</td>\n",
       "      <td>-0.023450</td>\n",
       "    </tr>\n",
       "    <tr>\n",
       "      <th>Bathrooms</th>\n",
       "      <td>0.631731</td>\n",
       "      <td>0.608636</td>\n",
       "      <td>-0.023450</td>\n",
       "      <td>1.000000</td>\n",
       "    </tr>\n",
       "  </tbody>\n",
       "</table>\n",
       "</div>"
      ],
      "text/plain": [
       "                SalePrice   TotalSF  YearsSinceSold  Bathrooms\n",
       "SalePrice        1.000000  0.782260        0.028923   0.631731\n",
       "TotalSF          0.782260  1.000000        0.022934   0.608636\n",
       "YearsSinceSold   0.028923  0.022934        1.000000  -0.023450\n",
       "Bathrooms        0.631731  0.608636       -0.023450   1.000000"
      ]
     },
     "execution_count": 77,
     "metadata": {},
     "output_type": "execute_result"
    }
   ],
   "source": [
    "# Create features that are interpretable -> i.e. everyone expects total square footage to correlate strongly with price\n",
    "def add_total_sf(df):\n",
    "    df[\"TotalSF\"] = df[\"TotalBsmtSF\"] + df[\"1stFlrSF\"] + df[\"2ndFlrSF\"]\n",
    "    return df\n",
    "\n",
    "def add_years_since_sold(df):\n",
    "    df[\"YearsSinceSold\"] = int(date.today().year) - df[\"YrSold\"].astype(int)\n",
    "    return df\n",
    "\n",
    "def add_bathrooms(df):\n",
    "    df[\"Bathrooms\"] = 0.5 * df[\"HalfBath\"] + df[\"FullBath\"] + 0.5 * df[\"BsmtHalfBath\"] + df[\"BsmtFullBath\"]\n",
    "    return df\n",
    "\n",
    "all = add_total_sf(all)\n",
    "all = add_years_since_sold(all)\n",
    "all = add_bathrooms(all)\n",
    "\n",
    "all[[\"SalePrice\", \"TotalSF\", \"YearsSinceSold\", \"Bathrooms\"]].corr()"
   ]
  },
  {
   "cell_type": "markdown",
   "id": "a3915d41",
   "metadata": {},
   "source": [
    "**4. Choose & validate models**"
   ]
  },
  {
   "cell_type": "code",
   "execution_count": null,
   "id": "f3177dfc",
   "metadata": {},
   "outputs": [
    {
     "name": "stdout",
     "output_type": "stream",
     "text": [
      "0.08904109589041095\n"
     ]
    }
   ],
   "source": [
    "from sklearn.linear_model import Lasso, Ridge, LinearRegression\n",
    "from sklearn.ensemble import RandomForestRegressor, GradientBoostingRegressor\n",
    "from sklearn.model_selection import GridSearchCV, train_test_split\n",
    "\n",
    "random_state = 123\n",
    "\n",
    "def rmse(predicted, actual):\n",
    "    return np.sqrt(np.mean((predicted - actual) ** 2))\n",
    "\n",
    "X_train, X_valid, y_train, y_valid = train_test_split(all[:len(train)].drop(\"SalePrice\", axis=1), all[:len(train)][\"SalePrice\"], test_size=0.2, random_state=random_state)\n",
    "\n",
    "# Ensemble models\n",
    "rf_search_space = {\n",
    "    \"max_depth\": [3, 6, 9],\n",
    "    \"n_estimators\": [100, 200, 300],\n",
    "}\n",
    "\n",
    "rf_model = RandomForestRegressor(random_state=random_state)\n",
    "rf_cv = GridSearchCV(rf_model, rf_search_space)\n",
    "rf_cv.fit(X_train, y_train)\n",
    "print(f\"Random Forest regressor RMSE: {rmse(rf_cv.predict(X_valid), y_valid)}\")\n",
    "\n",
    "gb_search_space = rf_search_space.copy()\n",
    "gb_search_space[\"learning_rate\"] = [0.001, 0.01, 0.1, 1]\n",
    "\n",
    "gb_model = GradientBoostingRegressor(random_state=random_state)\n",
    "gb_cv = GridSearchCV()\n",
    "\n",
    "\n",
    "# Linear models\n"
   ]
  },
  {
   "cell_type": "code",
   "execution_count": 81,
   "id": "471c7cef",
   "metadata": {},
   "outputs": [
    {
     "data": {
      "text/plain": [
       "0       False\n",
       "1       False\n",
       "2       False\n",
       "3       False\n",
       "4       False\n",
       "        ...  \n",
       "1455    False\n",
       "1456    False\n",
       "1457    False\n",
       "1458    False\n",
       "1459    False\n",
       "Name: SaleCondition_Partial, Length: 1460, dtype: bool"
      ]
     },
     "execution_count": 81,
     "metadata": {},
     "output_type": "execute_result"
    }
   ],
   "source": [
    "all.iloc[:len(train), -1]\n"
   ]
  },
  {
   "cell_type": "code",
   "execution_count": null,
   "id": "ab8409b5",
   "metadata": {},
   "outputs": [],
   "source": []
  }
 ],
 "metadata": {
  "kernelspec": {
   "display_name": "Python 3",
   "language": "python",
   "name": "python3"
  },
  "language_info": {
   "codemirror_mode": {
    "name": "ipython",
    "version": 3
   },
   "file_extension": ".py",
   "mimetype": "text/x-python",
   "name": "python",
   "nbconvert_exporter": "python",
   "pygments_lexer": "ipython3",
   "version": "3.13.7"
  }
 },
 "nbformat": 4,
 "nbformat_minor": 5
}
